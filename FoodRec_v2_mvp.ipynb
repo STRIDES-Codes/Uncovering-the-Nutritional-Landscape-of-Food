{
 "cells": [
  {
   "cell_type": "markdown",
   "id": "a7fb7dc5-3be6-4041-9b5a-9e109ad74bad",
   "metadata": {},
   "source": [
    "# Food Rec v2 for Minimum Viable Product\n",
    "Play around with recommending food that'll satisfy nutritional requirements not yet met in the current food selection.\n",
    "\n",
    "Recommend top 3 foods to satisfy a missing nutritional need.\n",
    "\n",
    "Note: \"Food set\" here is defined as the set of the user's selected foods AND the currently possibly recommended food (see below).\n",
    "\n",
    "Working with updated dataset"
   ]
  },
  {
   "cell_type": "markdown",
   "id": "f3fa39e6-31d5-46ee-9e24-83ec504dc601",
   "metadata": {},
   "source": [
    "## Import Libraries"
   ]
  },
  {
   "cell_type": "code",
   "execution_count": 2,
   "id": "13da3d49-95cf-4a8a-8dc0-942f800c863d",
   "metadata": {},
   "outputs": [],
   "source": [
    "import pandas as pd\n",
    "import random"
   ]
  },
  {
   "cell_type": "markdown",
   "id": "665d7850-0a80-4f40-816c-1857bc5faf14",
   "metadata": {},
   "source": [
    "## Look at Data"
   ]
  },
  {
   "cell_type": "code",
   "execution_count": 3,
   "id": "df9718aa-7b2d-495a-81ca-cd0cb8e3ff9a",
   "metadata": {
    "tags": []
   },
   "outputs": [
    {
     "data": {
      "text/html": [
       "<div>\n",
       "<style scoped>\n",
       "    .dataframe tbody tr th:only-of-type {\n",
       "        vertical-align: middle;\n",
       "    }\n",
       "\n",
       "    .dataframe tbody tr th {\n",
       "        vertical-align: top;\n",
       "    }\n",
       "\n",
       "    .dataframe thead th {\n",
       "        text-align: right;\n",
       "    }\n",
       "</style>\n",
       "<table border=\"1\" class=\"dataframe\">\n",
       "  <thead>\n",
       "    <tr style=\"text-align: right;\">\n",
       "      <th></th>\n",
       "      <th>nutrient</th>\n",
       "      <th>unit</th>\n",
       "      <th>food</th>\n",
       "      <th>nutrient_value</th>\n",
       "    </tr>\n",
       "  </thead>\n",
       "  <tbody>\n",
       "    <tr>\n",
       "      <th>0</th>\n",
       "      <td>Protein</td>\n",
       "      <td>G</td>\n",
       "      <td>Butter, salted</td>\n",
       "      <td>0.85</td>\n",
       "    </tr>\n",
       "    <tr>\n",
       "      <th>1</th>\n",
       "      <td>Protein</td>\n",
       "      <td>G</td>\n",
       "      <td>Butter, whipped, with salt</td>\n",
       "      <td>0.49</td>\n",
       "    </tr>\n",
       "    <tr>\n",
       "      <th>2</th>\n",
       "      <td>Protein</td>\n",
       "      <td>G</td>\n",
       "      <td>Butter oil, anhydrous</td>\n",
       "      <td>0.28</td>\n",
       "    </tr>\n",
       "    <tr>\n",
       "      <th>3</th>\n",
       "      <td>Protein</td>\n",
       "      <td>G</td>\n",
       "      <td>Cheese, blue</td>\n",
       "      <td>21.40</td>\n",
       "    </tr>\n",
       "    <tr>\n",
       "      <th>4</th>\n",
       "      <td>Protein</td>\n",
       "      <td>G</td>\n",
       "      <td>Cheese, brick</td>\n",
       "      <td>23.24</td>\n",
       "    </tr>\n",
       "    <tr>\n",
       "      <th>...</th>\n",
       "      <td>...</td>\n",
       "      <td>...</td>\n",
       "      <td>...</td>\n",
       "      <td>...</td>\n",
       "    </tr>\n",
       "    <tr>\n",
       "      <th>146670</th>\n",
       "      <td>Sugars, total including NLEA</td>\n",
       "      <td>G</td>\n",
       "      <td>REDUCED SODIUM: Turkey breast, sliced, prepack...</td>\n",
       "      <td>0.91</td>\n",
       "    </tr>\n",
       "    <tr>\n",
       "      <th>146671</th>\n",
       "      <td>Sugars, total including NLEA</td>\n",
       "      <td>G</td>\n",
       "      <td>REDUCED SODIUM: Chicken breast, deli, rotisser...</td>\n",
       "      <td>0.75</td>\n",
       "    </tr>\n",
       "    <tr>\n",
       "      <th>146672</th>\n",
       "      <td>Sugars, total including NLEA</td>\n",
       "      <td>G</td>\n",
       "      <td>REDUCED SODIUM: Bologna, meat and poultry</td>\n",
       "      <td>1.97</td>\n",
       "    </tr>\n",
       "    <tr>\n",
       "      <th>146673</th>\n",
       "      <td>Sugars, total including NLEA</td>\n",
       "      <td>G</td>\n",
       "      <td>REDUCED SODIUM: Nuts, almond butter, plain, wi...</td>\n",
       "      <td>6.27</td>\n",
       "    </tr>\n",
       "    <tr>\n",
       "      <th>146674</th>\n",
       "      <td>Sugars, total including NLEA</td>\n",
       "      <td>G</td>\n",
       "      <td>Vitamin D as ingredient</td>\n",
       "      <td>0.00</td>\n",
       "    </tr>\n",
       "  </tbody>\n",
       "</table>\n",
       "<p>146675 rows × 4 columns</p>\n",
       "</div>"
      ],
      "text/plain": [
       "                            nutrient unit  \\\n",
       "0                            Protein    G   \n",
       "1                            Protein    G   \n",
       "2                            Protein    G   \n",
       "3                            Protein    G   \n",
       "4                            Protein    G   \n",
       "...                              ...  ...   \n",
       "146670  Sugars, total including NLEA    G   \n",
       "146671  Sugars, total including NLEA    G   \n",
       "146672  Sugars, total including NLEA    G   \n",
       "146673  Sugars, total including NLEA    G   \n",
       "146674  Sugars, total including NLEA    G   \n",
       "\n",
       "                                                     food  nutrient_value  \n",
       "0                                          Butter, salted            0.85  \n",
       "1                              Butter, whipped, with salt            0.49  \n",
       "2                                   Butter oil, anhydrous            0.28  \n",
       "3                                            Cheese, blue           21.40  \n",
       "4                                           Cheese, brick           23.24  \n",
       "...                                                   ...             ...  \n",
       "146670  REDUCED SODIUM: Turkey breast, sliced, prepack...            0.91  \n",
       "146671  REDUCED SODIUM: Chicken breast, deli, rotisser...            0.75  \n",
       "146672          REDUCED SODIUM: Bologna, meat and poultry            1.97  \n",
       "146673  REDUCED SODIUM: Nuts, almond butter, plain, wi...            6.27  \n",
       "146674                            Vitamin D as ingredient            0.00  \n",
       "\n",
       "[146675 rows x 4 columns]"
      ]
     },
     "metadata": {},
     "output_type": "display_data"
    }
   ],
   "source": [
    "data = pd.read_csv(\"./nutrient_foodname_amount.tsv\", sep=\"\\t\")\n",
    "display(data)"
   ]
  },
  {
   "cell_type": "markdown",
   "id": "270994ae-1b9e-4c81-97e5-7632940ff2f7",
   "metadata": {},
   "source": [
    "## Get List of All Foods and Nutrients in Our Dataset"
   ]
  },
  {
   "cell_type": "code",
   "execution_count": 4,
   "id": "f07d4f3f-8db7-4092-8922-60cd61f87e7c",
   "metadata": {
    "tags": []
   },
   "outputs": [
    {
     "data": {
      "text/plain": [
       "array(['Butter, salted', 'Butter, whipped, with salt',\n",
       "       'Butter oil, anhydrous', ...,\n",
       "       'REDUCED SODIUM: Bologna, meat and poultry',\n",
       "       'REDUCED SODIUM: Nuts, almond butter, plain, with salt added',\n",
       "       'Vitamin D as ingredient'], dtype=object)"
      ]
     },
     "metadata": {},
     "output_type": "display_data"
    },
    {
     "data": {
      "text/plain": [
       "array(['Protein', 'Total lipid (fat)', 'Carbohydrate, by difference',\n",
       "       'Energy', 'Alcohol, ethyl', 'Water', 'Caffeine', 'Theobromine',\n",
       "       'Fiber, total dietary', 'Calcium, Ca', 'Iron, Fe', 'Magnesium, Mg',\n",
       "       'Phosphorus, P', 'Potassium, K', 'Sodium, Na', 'Zinc, Zn',\n",
       "       'Copper, Cu', 'Selenium, Se', 'Retinol', 'Vitamin A, RAE',\n",
       "       'Carotene, beta', 'Carotene, alpha',\n",
       "       'Vitamin E (alpha-tocopherol)', 'Vitamin D (D2 + D3)',\n",
       "       'Cryptoxanthin, beta', 'Lycopene', 'Lutein + zeaxanthin',\n",
       "       'Vitamin C, total ascorbic acid', 'Thiamin', 'Riboflavin',\n",
       "       'Niacin', 'Vitamin B-6', 'Folate, total', 'Vitamin B-12',\n",
       "       'Choline, total', 'Vitamin K (phylloquinone)', 'Folic acid',\n",
       "       'Folate, food', 'Folate, DFE', 'Vitamin E, added',\n",
       "       'Vitamin B-12, added', 'Cholesterol',\n",
       "       'Fatty acids, total saturated', 'SFA 4:0', 'SFA 6:0', 'SFA 8:0',\n",
       "       'SFA 10:0', 'SFA 12:0', 'SFA 14:0', 'SFA 16:0', 'SFA 18:0',\n",
       "       'MUFA 18:1', 'PUFA 18:2', 'PUFA 18:3', 'PUFA 20:4',\n",
       "       'PUFA 22:6 n-3 (DHA)', 'MUFA 16:1', 'PUFA 18:4', 'MUFA 20:1',\n",
       "       'PUFA 2:5 n-3 (EPA)', 'MUFA 22:1', 'PUFA 22:5 n-3 (DPA)',\n",
       "       'Fatty acids, total monounsaturated',\n",
       "       'Fatty acids, total polyunsaturated',\n",
       "       'Sugars, total including NLEA'], dtype=object)"
      ]
     },
     "metadata": {},
     "output_type": "display_data"
    }
   ],
   "source": [
    "uniqueFoods = data[\"food\"].unique()\n",
    "uniqueNutrients = data[\"nutrient\"].unique()\n",
    "display(uniqueFoods, uniqueNutrients)"
   ]
  },
  {
   "cell_type": "markdown",
   "id": "63a277b7-f327-491c-9de5-221192eb9b6a",
   "metadata": {},
   "source": [
    "## Simulation Data\n"
   ]
  },
  {
   "cell_type": "code",
   "execution_count": 9,
   "id": "bf79020e-b994-45b4-8fc6-83e057f1a5d0",
   "metadata": {},
   "outputs": [],
   "source": [
    "def get_info(food):\n",
    "    '''Return a DataFrame containing nutrient data of only the food passed in'''\n",
    "    return data[data[\"food\"] == food]"
   ]
  },
  {
   "cell_type": "code",
   "execution_count": 17,
   "id": "2b4ba694-27fb-4ab9-af8e-2f5935de406d",
   "metadata": {},
   "outputs": [],
   "source": [
    "def get_nutrient(food, nutrient):\n",
    "    '''Return the specific nutrient amount for a particular food and nutrient of interest'''\n",
    "    thisFood = get_info(food)\n",
    "\n",
    "    nutInfo = thisFood[thisFood[\"nutrient\"] == nutrient][\"nutrient_value\"]\n",
    "\n",
    "    if(len(nutInfo) == 0):\n",
    "        return 0\n",
    "    \n",
    "    return float(nutInfo.values)\n",
    "\n"
   ]
  },
  {
   "cell_type": "code",
   "execution_count": 18,
   "id": "a5d23d0d-ef47-497f-a02c-d14d63104861",
   "metadata": {},
   "outputs": [
    {
     "data": {
      "text/plain": [
       "{'Iron, Fe': 4.73, 'Cholesterol': 92.0, 'Calcium, Ca': 472.0}"
      ]
     },
     "metadata": {},
     "output_type": "display_data"
    }
   ],
   "source": [
    "simSelectedFoods = [\"REDUCED SODIUM: Bologna, meat and poultry\", \"Butter\", \"REDUCED SODIUM: Nuts, almond butter, plain, with salt added\"]\n",
    "nutrientsOfInterest = [\"Iron, Fe\", \"Cholesterol\", \"Calcium, Ca\"]\n",
    "\n",
    "nutrientData = {nutrient:0 for nutrient in nutrientsOfInterest}\n",
    "\n",
    "# Go through each food of interest and gather data\n",
    "for food in simSelectedFoods:\n",
    "    \n",
    "    # Nutrient data\n",
    "    nutrientData = {nut:amt+get_nutrient(food, nut) for (nut,amt) in nutrientData.items()}\n",
    "    \n",
    "display(nutrientData)"
   ]
  },
  {
   "cell_type": "markdown",
   "id": "9ff9b42d-7748-4e89-a0f6-eb3cd991ab2f",
   "metadata": {},
   "source": [
    "## Rec System\n",
    "In this version, for now, we'd just like to recommend a food that'll satisfy the nutrient requirement for the nutrient that's furthest from the daily recommended value in the currently selected foods"
   ]
  },
  {
   "cell_type": "code",
   "execution_count": 19,
   "id": "5a6f2db6-2736-472a-b67d-5da91ecdd258",
   "metadata": {},
   "outputs": [
    {
     "data": {
      "text/plain": [
       "{'Iron, Fe': 228.00038157258365,\n",
       " 'Cholesterol': 280.3960267490736,\n",
       " 'Calcium, Ca': 221.18241042043087}"
      ]
     },
     "metadata": {},
     "output_type": "display_data"
    }
   ],
   "source": [
    "recAmounts = {nut:random.random() * random.randint(100, 2000) for nut in nutrientsOfInterest}\n",
    "display(recAmounts)"
   ]
  },
  {
   "cell_type": "code",
   "execution_count": 52,
   "id": "559fe94d-a555-478c-b0eb-8c50c7e1ffd9",
   "metadata": {},
   "outputs": [
    {
     "data": {
      "text/plain": [
       "'Protein'"
      ]
     },
     "metadata": {},
     "output_type": "display_data"
    }
   ],
   "source": [
    "# Randomly generate a most needed nutrient\n",
    "lowestNutrient = uniqueNutrients[random.randint(0, len(uniqueNutrients) - 1)]\n",
    "display(lowestNutrient)"
   ]
  },
  {
   "cell_type": "code",
   "execution_count": 53,
   "id": "0c3a4160-ca21-4150-8b14-315eb5ca3d5c",
   "metadata": {},
   "outputs": [],
   "source": [
    "def rec_foods(nutrient, numRecs = 3):\n",
    "    '''Recommend a food to satisfy the missing nutritional need of argument nutrient'''\n",
    "    possibleFoods = data[data[\"nutrient\"] == nutrient]\n",
    "    possibleFoods.sort_values(by = [\"nutrient_value\"], ascending = False, inplace = True)\n",
    "    #display(possibleFoods)\n",
    "    \n",
    "    # If there's enough foods with this nutrient\n",
    "    if numRecs <= possibleFoods.shape[0]:\n",
    "        return possibleFoods.iloc[:numRecs][\"food\"].values\n",
    "    \n",
    "    return possibleFoods.iloc[0][\"food\"]"
   ]
  },
  {
   "cell_type": "code",
   "execution_count": 55,
   "id": "37c831b1-197e-4f84-9a74-06e6a5e5db8e",
   "metadata": {},
   "outputs": [
    {
     "name": "stderr",
     "output_type": "stream",
     "text": [
      "/Users/kylepu/Desktop/UCLA/Pellegrini_Lab_Research/Influences_On_The_Epigenome/.venv/lib/python3.7/site-packages/ipykernel_launcher.py:4: SettingWithCopyWarning: \n",
      "A value is trying to be set on a copy of a slice from a DataFrame\n",
      "\n",
      "See the caveats in the documentation: https://pandas.pydata.org/pandas-docs/stable/user_guide/indexing.html#returning-a-view-versus-a-copy\n",
      "  after removing the cwd from sys.path.\n"
     ]
    },
    {
     "data": {
      "text/plain": [
       "array(['Soy protein isolate', 'Gelatins, dry powder, unsweetened',\n",
       "       'Beverages, Protein powder whey based',\n",
       "       'Beverages, ABBOTT, EAS whey protein powder',\n",
       "       'Fish, cod, Atlantic, dried and salted'], dtype=object)"
      ]
     },
     "execution_count": 55,
     "metadata": {},
     "output_type": "execute_result"
    }
   ],
   "source": [
    "rec_foods(lowestNutrient, 5)"
   ]
  }
 ],
 "metadata": {
  "kernelspec": {
   "display_name": "Pellegrini_Lab_Kernel",
   "language": "python",
   "name": "pellegrini_lab_kernel"
  },
  "language_info": {
   "codemirror_mode": {
    "name": "ipython",
    "version": 3
   },
   "file_extension": ".py",
   "mimetype": "text/x-python",
   "name": "python",
   "nbconvert_exporter": "python",
   "pygments_lexer": "ipython3",
   "version": "3.7.3"
  }
 },
 "nbformat": 4,
 "nbformat_minor": 5
}
